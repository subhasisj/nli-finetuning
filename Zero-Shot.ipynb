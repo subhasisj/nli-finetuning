{
 "cells": [
  {
   "cell_type": "code",
   "execution_count": null,
   "metadata": {},
   "outputs": [],
   "source": [
    "from transformers import pipeline\n",
    "\n",
    "model_name = \"razent/SciFive-large-Pubmed_PMC-MedNLI\"\n",
    "model = pipeline(\"zero-shot-classification\", model_name=model_name)"
   ]
  },
  {
   "cell_type": "code",
   "execution_count": null,
   "metadata": {},
   "outputs": [],
   "source": [
    "sequence_to_classify = \"one day I will see the world\"\n",
    "candidate_labels = ['travel', 'cooking', 'dancing']\n",
    "model(sequence_to_classify, candidate_labels)"
   ]
  },
  {
   "cell_type": "code",
   "execution_count": 114,
   "metadata": {},
   "outputs": [
    {
     "name": "stderr",
     "output_type": "stream",
     "text": [
      "Some weights of the model checkpoint at facebook/bart-large-mnli were not used when initializing BartForConditionalGeneration: ['classification_head.dense.weight', 'classification_head.out_proj.weight', 'classification_head.out_proj.bias', 'classification_head.dense.bias']\n",
      "- This IS expected if you are initializing BartForConditionalGeneration from the checkpoint of a model trained on another task or with another architecture (e.g. initializing a BertForSequenceClassification model from a BertForPreTraining model).\n",
      "- This IS NOT expected if you are initializing BartForConditionalGeneration from the checkpoint of a model that you expect to be exactly identical (initializing a BertForSequenceClassification model from a BertForSequenceClassification model).\n"
     ]
    }
   ],
   "source": [
    "from transformers import pipeline,AutoTokenizer\n",
    "\n",
    "model_name = \"facebook/bart-large-mnli\"\n",
    "tokenizer = AutoTokenizer.from_pretrained(model_name)\n",
    "model = pipeline(\"fill-mask\", model=model_name)"
   ]
  },
  {
   "cell_type": "code",
   "execution_count": 118,
   "metadata": {},
   "outputs": [
    {
     "data": {
      "text/plain": [
       "'<mask>'"
      ]
     },
     "execution_count": 118,
     "metadata": {},
     "output_type": "execute_result"
    }
   ],
   "source": [
    "tokenizer.mask_token"
   ]
  },
  {
   "cell_type": "code",
   "execution_count": 211,
   "metadata": {},
   "outputs": [],
   "source": [
    "movie_desc = \"'people_tab' table has a column called 'nids' which has values like 'Subhasis Jethy', 'Jay Andrews', 'John K', 'Ben Jolly', 'Daniel adams'.\"\n",
    "prompt = f\" Does the column 'nids' contain car names ? {tokenizer.mask_token} .\""
   ]
  },
  {
   "cell_type": "code",
   "execution_count": 212,
   "metadata": {},
   "outputs": [],
   "source": [
    "# movie_desc = \"The main characters of the movie madacascar \\\n",
    "# are a lion, a zebra, a giraffe, and a hippo. \"\n",
    "# prompt = \"Does this movie contain animals ? [MASK].\""
   ]
  },
  {
   "cell_type": "code",
   "execution_count": 213,
   "metadata": {},
   "outputs": [
    {
     "name": "stdout",
     "output_type": "stream",
     "text": [
      "[{'score': 0.003504968946799636, 'token': 3216, 'token_str': ' Yes', 'sequence': \"'people_tab' table has a column called 'nids' which has values like 'Subhasis Jethy', 'Jay Andrews', 'John K', 'Ben Jolly', 'Daniel adams'. Does the column 'nids' contain car names? Yes.\"}, {'score': 1.107908929043333e-06, 'token': 3084, 'token_str': 'No', 'sequence': \"'people_tab' table has a column called 'nids' which has values like 'Subhasis Jethy', 'Jay Andrews', 'John K', 'Ben Jolly', 'Daniel adams'. Does the column 'nids' contain car names?No.\"}]\n",
      "Token  Yes:\t0.004%\n",
      "Token No:\t0.000%\n"
     ]
    }
   ],
   "source": [
    "output = model(movie_desc + prompt,targets=['ĠYes', 'No'])\n",
    "print(output)\n",
    "for element in output:\n",
    "    print(f\"Token {element['token_str']}:\\t{element['score']:.3f}%\")"
   ]
  },
  {
   "cell_type": "code",
   "execution_count": null,
   "metadata": {},
   "outputs": [],
   "source": []
  },
  {
   "cell_type": "code",
   "execution_count": null,
   "metadata": {},
   "outputs": [],
   "source": []
  }
 ],
 "metadata": {
  "interpreter": {
   "hash": "988aea983bc49b4de6555a9151e99301026502c3eb4adf0dc68b340a087613cc"
  },
  "kernelspec": {
   "display_name": "Python 3.8.12 ('all-purpose-gpu')",
   "language": "python",
   "name": "python3"
  },
  "language_info": {
   "codemirror_mode": {
    "name": "ipython",
    "version": 3
   },
   "file_extension": ".py",
   "mimetype": "text/x-python",
   "name": "python",
   "nbconvert_exporter": "python",
   "pygments_lexer": "ipython3",
   "version": "3.8.12"
  },
  "orig_nbformat": 4
 },
 "nbformat": 4,
 "nbformat_minor": 2
}
