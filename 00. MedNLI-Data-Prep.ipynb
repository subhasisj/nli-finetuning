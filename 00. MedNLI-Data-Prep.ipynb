{
 "cells": [
  {
   "cell_type": "code",
   "execution_count": 7,
   "metadata": {},
   "outputs": [
    {
     "data": {
      "text/html": [
       "<div>\n",
       "<style scoped>\n",
       "    .dataframe tbody tr th:only-of-type {\n",
       "        vertical-align: middle;\n",
       "    }\n",
       "\n",
       "    .dataframe tbody tr th {\n",
       "        vertical-align: top;\n",
       "    }\n",
       "\n",
       "    .dataframe thead th {\n",
       "        text-align: right;\n",
       "    }\n",
       "</style>\n",
       "<table border=\"1\" class=\"dataframe\">\n",
       "  <thead>\n",
       "    <tr style=\"text-align: right;\">\n",
       "      <th></th>\n",
       "      <th>0</th>\n",
       "      <th>1</th>\n",
       "    </tr>\n",
       "  </thead>\n",
       "  <tbody>\n",
       "    <tr>\n",
       "      <th>0</th>\n",
       "      <td>sentence1: Labs were notable for Cr 1.7 (baseline 0.5 per old records) and lactate 2.4. sentence2: Patient has elevated Cr</td>\n",
       "      <td>entailment</td>\n",
       "    </tr>\n",
       "    <tr>\n",
       "      <th>1</th>\n",
       "      <td>sentence1: Labs were notable for Cr 1.7 (baseline 0.5 per old records) and lactate 2.4. sentence2: Patient has normal Cr</td>\n",
       "      <td>contradiction</td>\n",
       "    </tr>\n",
       "    <tr>\n",
       "      <th>2</th>\n",
       "      <td>sentence1: Labs were notable for Cr 1.7 (baseline 0.5 per old records) and lactate 2.4. sentence2: Patient has elevated BUN</td>\n",
       "      <td>neutral</td>\n",
       "    </tr>\n",
       "    <tr>\n",
       "      <th>3</th>\n",
       "      <td>sentence1: Nystagmus and twiching of R arm was noted. sentence2: The patient had abnormal neuro exam.</td>\n",
       "      <td>entailment</td>\n",
       "    </tr>\n",
       "    <tr>\n",
       "      <th>4</th>\n",
       "      <td>sentence1: Nystagmus and twiching of R arm was noted. sentence2: The patient has a normal neuro exam.</td>\n",
       "      <td>contradiction</td>\n",
       "    </tr>\n",
       "  </tbody>\n",
       "</table>\n",
       "</div>"
      ],
      "text/plain": [
       "                                                                                                                             0  \\\n",
       "0  sentence1: Labs were notable for Cr 1.7 (baseline 0.5 per old records) and lactate 2.4. sentence2: Patient has elevated Cr    \n",
       "1  sentence1: Labs were notable for Cr 1.7 (baseline 0.5 per old records) and lactate 2.4. sentence2: Patient has normal Cr      \n",
       "2  sentence1: Labs were notable for Cr 1.7 (baseline 0.5 per old records) and lactate 2.4. sentence2: Patient has elevated BUN   \n",
       "3  sentence1: Nystagmus and twiching of R arm was noted. sentence2: The patient had abnormal neuro exam.                         \n",
       "4  sentence1: Nystagmus and twiching of R arm was noted. sentence2: The patient has a normal neuro exam.                         \n",
       "\n",
       "               1  \n",
       "0  entailment     \n",
       "1  contradiction  \n",
       "2  neutral        \n",
       "3  entailment     \n",
       "4  contradiction  "
      ]
     },
     "execution_count": 7,
     "metadata": {},
     "output_type": "execute_result"
    }
   ],
   "source": [
    "#  Read data from TSV files for NLI\n",
    "import pandas as pd\n",
    "\n",
    "data = pd.read_csv('./Data/finetune_mednli_train.tsv',sep='\\t',header=None)\n",
    "data.head()"
   ]
  },
  {
   "cell_type": "code",
   "execution_count": 8,
   "metadata": {},
   "outputs": [],
   "source": [
    "#  Take the part of the sentence in column 0 beginning with \"sentence1\" into a separate column and \"sentence2\" into a separate column\n",
    "data[\"sentence_1\"] = data[0].str.split('sentence1:',expand=True)[1]\n",
    "# Remove the part starting with sentence2: from the sentence_1 column\n",
    "data[\"sentence_1\"] = data[\"sentence_1\"].str.split('sentence2:',expand=True)[0]\n",
    "data[\"sentence_2\"] = data[0].str.split('sentence2:',expand=True)[1]\n",
    "data.drop(0,axis=1,inplace=True)\n"
   ]
  },
  {
   "cell_type": "code",
   "execution_count": 9,
   "metadata": {},
   "outputs": [
    {
     "data": {
      "text/html": [
       "<div>\n",
       "<style scoped>\n",
       "    .dataframe tbody tr th:only-of-type {\n",
       "        vertical-align: middle;\n",
       "    }\n",
       "\n",
       "    .dataframe tbody tr th {\n",
       "        vertical-align: top;\n",
       "    }\n",
       "\n",
       "    .dataframe thead th {\n",
       "        text-align: right;\n",
       "    }\n",
       "</style>\n",
       "<table border=\"1\" class=\"dataframe\">\n",
       "  <thead>\n",
       "    <tr style=\"text-align: right;\">\n",
       "      <th></th>\n",
       "      <th>label</th>\n",
       "      <th>sentence_1</th>\n",
       "      <th>sentence_2</th>\n",
       "    </tr>\n",
       "  </thead>\n",
       "  <tbody>\n",
       "    <tr>\n",
       "      <th>0</th>\n",
       "      <td>entailment</td>\n",
       "      <td>Labs were notable for Cr 1.7 (baseline 0.5 per old records) and lactate 2.4.</td>\n",
       "      <td>Patient has elevated Cr</td>\n",
       "    </tr>\n",
       "    <tr>\n",
       "      <th>1</th>\n",
       "      <td>contradiction</td>\n",
       "      <td>Labs were notable for Cr 1.7 (baseline 0.5 per old records) and lactate 2.4.</td>\n",
       "      <td>Patient has normal Cr</td>\n",
       "    </tr>\n",
       "    <tr>\n",
       "      <th>2</th>\n",
       "      <td>neutral</td>\n",
       "      <td>Labs were notable for Cr 1.7 (baseline 0.5 per old records) and lactate 2.4.</td>\n",
       "      <td>Patient has elevated BUN</td>\n",
       "    </tr>\n",
       "    <tr>\n",
       "      <th>3</th>\n",
       "      <td>entailment</td>\n",
       "      <td>Nystagmus and twiching of R arm was noted.</td>\n",
       "      <td>The patient had abnormal neuro exam.</td>\n",
       "    </tr>\n",
       "    <tr>\n",
       "      <th>4</th>\n",
       "      <td>contradiction</td>\n",
       "      <td>Nystagmus and twiching of R arm was noted.</td>\n",
       "      <td>The patient has a normal neuro exam.</td>\n",
       "    </tr>\n",
       "  </tbody>\n",
       "</table>\n",
       "</div>"
      ],
      "text/plain": [
       "           label  \\\n",
       "0  entailment      \n",
       "1  contradiction   \n",
       "2  neutral         \n",
       "3  entailment      \n",
       "4  contradiction   \n",
       "\n",
       "                                                                       sentence_1  \\\n",
       "0   Labs were notable for Cr 1.7 (baseline 0.5 per old records) and lactate 2.4.    \n",
       "1   Labs were notable for Cr 1.7 (baseline 0.5 per old records) and lactate 2.4.    \n",
       "2   Labs were notable for Cr 1.7 (baseline 0.5 per old records) and lactate 2.4.    \n",
       "3   Nystagmus and twiching of R arm was noted.                                      \n",
       "4   Nystagmus and twiching of R arm was noted.                                      \n",
       "\n",
       "                              sentence_2  \n",
       "0   Patient has elevated Cr               \n",
       "1   Patient has normal Cr                 \n",
       "2   Patient has elevated BUN              \n",
       "3   The patient had abnormal neuro exam.  \n",
       "4   The patient has a normal neuro exam.  "
      ]
     },
     "execution_count": 9,
     "metadata": {},
     "output_type": "execute_result"
    }
   ],
   "source": [
    "data.columns = [\"label\",\"sentence_1\",\"sentence_2\"]\n",
    "data.head()"
   ]
  },
  {
   "cell_type": "code",
   "execution_count": 10,
   "metadata": {},
   "outputs": [
    {
     "name": "stderr",
     "output_type": "stream",
     "text": [
      "C:\\Users\\Subha\\AppData\\Local\\Temp\\ipykernel_20232\\2597337696.py:2: FutureWarning: Passing a negative integer is deprecated in version 1.0 and will not be supported in future version. Instead, use None to not limit the column width.\n",
      "  pd.set_option('display.max_colwidth', -1)\n"
     ]
    },
    {
     "data": {
      "text/html": [
       "<div>\n",
       "<style scoped>\n",
       "    .dataframe tbody tr th:only-of-type {\n",
       "        vertical-align: middle;\n",
       "    }\n",
       "\n",
       "    .dataframe tbody tr th {\n",
       "        vertical-align: top;\n",
       "    }\n",
       "\n",
       "    .dataframe thead th {\n",
       "        text-align: right;\n",
       "    }\n",
       "</style>\n",
       "<table border=\"1\" class=\"dataframe\">\n",
       "  <thead>\n",
       "    <tr style=\"text-align: right;\">\n",
       "      <th></th>\n",
       "      <th>label</th>\n",
       "      <th>sentence_1</th>\n",
       "      <th>sentence_2</th>\n",
       "    </tr>\n",
       "  </thead>\n",
       "  <tbody>\n",
       "    <tr>\n",
       "      <th>0</th>\n",
       "      <td>entailment</td>\n",
       "      <td>Labs were notable for Cr 1.7 (baseline 0.5 per old records) and lactate 2.4.</td>\n",
       "      <td>Patient has elevated Cr</td>\n",
       "    </tr>\n",
       "    <tr>\n",
       "      <th>1</th>\n",
       "      <td>contradiction</td>\n",
       "      <td>Labs were notable for Cr 1.7 (baseline 0.5 per old records) and lactate 2.4.</td>\n",
       "      <td>Patient has normal Cr</td>\n",
       "    </tr>\n",
       "    <tr>\n",
       "      <th>2</th>\n",
       "      <td>neutral</td>\n",
       "      <td>Labs were notable for Cr 1.7 (baseline 0.5 per old records) and lactate 2.4.</td>\n",
       "      <td>Patient has elevated BUN</td>\n",
       "    </tr>\n",
       "    <tr>\n",
       "      <th>3</th>\n",
       "      <td>entailment</td>\n",
       "      <td>Nystagmus and twiching of R arm was noted.</td>\n",
       "      <td>The patient had abnormal neuro exam.</td>\n",
       "    </tr>\n",
       "    <tr>\n",
       "      <th>4</th>\n",
       "      <td>contradiction</td>\n",
       "      <td>Nystagmus and twiching of R arm was noted.</td>\n",
       "      <td>The patient has a normal neuro exam.</td>\n",
       "    </tr>\n",
       "  </tbody>\n",
       "</table>\n",
       "</div>"
      ],
      "text/plain": [
       "           label  \\\n",
       "0  entailment      \n",
       "1  contradiction   \n",
       "2  neutral         \n",
       "3  entailment      \n",
       "4  contradiction   \n",
       "\n",
       "                                                                       sentence_1  \\\n",
       "0   Labs were notable for Cr 1.7 (baseline 0.5 per old records) and lactate 2.4.    \n",
       "1   Labs were notable for Cr 1.7 (baseline 0.5 per old records) and lactate 2.4.    \n",
       "2   Labs were notable for Cr 1.7 (baseline 0.5 per old records) and lactate 2.4.    \n",
       "3   Nystagmus and twiching of R arm was noted.                                      \n",
       "4   Nystagmus and twiching of R arm was noted.                                      \n",
       "\n",
       "                              sentence_2  \n",
       "0   Patient has elevated Cr               \n",
       "1   Patient has normal Cr                 \n",
       "2   Patient has elevated BUN              \n",
       "3   The patient had abnormal neuro exam.  \n",
       "4   The patient has a normal neuro exam.  "
      ]
     },
     "execution_count": 10,
     "metadata": {},
     "output_type": "execute_result"
    }
   ],
   "source": [
    "# Customize pandas to display the entire row width\n",
    "pd.set_option('display.max_colwidth', -1)\n",
    "data.head()"
   ]
  },
  {
   "cell_type": "code",
   "execution_count": 11,
   "metadata": {},
   "outputs": [],
   "source": [
    "data.to_csv('./Data/mednli_train.csv',index=False)"
   ]
  },
  {
   "cell_type": "code",
   "execution_count": null,
   "metadata": {},
   "outputs": [],
   "source": []
  }
 ],
 "metadata": {
  "interpreter": {
   "hash": "988aea983bc49b4de6555a9151e99301026502c3eb4adf0dc68b340a087613cc"
  },
  "kernelspec": {
   "display_name": "Python 3.8.12 ('all-purpose-gpu')",
   "language": "python",
   "name": "python3"
  },
  "language_info": {
   "codemirror_mode": {
    "name": "ipython",
    "version": 3
   },
   "file_extension": ".py",
   "mimetype": "text/x-python",
   "name": "python",
   "nbconvert_exporter": "python",
   "pygments_lexer": "ipython3",
   "version": "3.8.12"
  },
  "orig_nbformat": 4
 },
 "nbformat": 4,
 "nbformat_minor": 2
}
